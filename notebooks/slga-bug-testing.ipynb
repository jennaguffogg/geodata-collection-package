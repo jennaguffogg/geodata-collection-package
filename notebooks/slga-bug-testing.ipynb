{
 "cells": [
  {
   "cell_type": "code",
   "execution_count": 2,
   "metadata": {},
   "outputs": [
    {
     "name": "stdout",
     "output_type": "stream",
     "text": [
      "Note: you may need to restart the kernel to use updated packages.\n",
      "Note: you may need to restart the kernel to use updated packages.\n",
      "Note: you may need to restart the kernel to use updated packages.\n",
      "Note: you may need to restart the kernel to use updated packages.\n",
      "Note: you may need to restart the kernel to use updated packages.\n",
      "Note: you may need to restart the kernel to use updated packages.\n"
     ]
    }
   ],
   "source": [
    "%pip install cartopy -q\n",
    "%pip install ipywidgets -q\n",
    "%pip install geopandas -q\n",
    "%pip install rasterio -q\n",
    "%pip install owslib -q\n",
    "%pip install --upgrade ipywidgets -q"
   ]
  },
  {
   "cell_type": "code",
   "execution_count": 6,
   "metadata": {},
   "outputs": [
    {
     "ename": "ModuleNotFoundError",
     "evalue": "No module named 'geodata_fetch'",
     "output_type": "error",
     "traceback": [
      "\u001b[0;31m---------------------------------------------------------------------------\u001b[0m",
      "\u001b[0;31mModuleNotFoundError\u001b[0m                       Traceback (most recent call last)",
      "Cell \u001b[0;32mIn[6], line 13\u001b[0m\n\u001b[1;32m      9\u001b[0m \u001b[38;5;28;01mimport\u001b[39;00m \u001b[38;5;21;01mgeopandas\u001b[39;00m \u001b[38;5;28;01mas\u001b[39;00m \u001b[38;5;21;01mgpd\u001b[39;00m\n\u001b[1;32m     10\u001b[0m \u001b[38;5;28;01mimport\u001b[39;00m \u001b[38;5;21;01mnumpy\u001b[39;00m \u001b[38;5;28;01mas\u001b[39;00m \u001b[38;5;21;01mnp\u001b[39;00m\n\u001b[0;32m---> 13\u001b[0m \u001b[38;5;28;01mfrom\u001b[39;00m \u001b[38;5;21;01mgeodata_fetch\u001b[39;00m\u001b[38;5;21;01m.\u001b[39;00m\u001b[38;5;21;01mharvest\u001b[39;00m \u001b[38;5;28;01mimport\u001b[39;00m DataHarvester\n\u001b[1;32m     14\u001b[0m \u001b[38;5;66;03m#from gis_utils.dataframe import get_bbox_from_geodf\u001b[39;00m\n\u001b[1;32m     16\u001b[0m \u001b[38;5;28;01mimport\u001b[39;00m \u001b[38;5;21;01mrasterio\u001b[39;00m\n",
      "\u001b[0;31mModuleNotFoundError\u001b[0m: No module named 'geodata_fetch'"
     ]
    }
   ],
   "source": [
    "import json\n",
    "import os\n",
    "import logging\n",
    "import sys\n",
    "from io import StringIO\n",
    "\n",
    "\n",
    "\n",
    "import geopandas as gpd\n",
    "import numpy as np\n",
    "\n",
    "\n",
    "from geodata_fetch.harvest import DataHarvester\n",
    "#from gis_utils.dataframe import get_bbox_from_geodf\n",
    "\n",
    "import rasterio\n",
    "from rasterio.plot import show\n",
    "import matplotlib.pyplot as plt\n",
    "from ipywidgets import Dropdown, interact\n",
    "import cartopy\n",
    "import cartopy.crs as ccrs\n",
    "from cartopy.io.img_tiles import GoogleTiles\n",
    "from owslib.coverage.wcsBase import ServiceException\n",
    "from owslib.wcs import WebCoverageService\n",
    "\n",
    "# Set environment variable for AWS public datasets\n",
    "os.environ['AWS_NO_SIGN_REQUEST'] = 'YES'"
   ]
  },
  {
   "cell_type": "code",
   "execution_count": null,
   "metadata": {},
   "outputs": [],
   "source": [
    "map_results = True\n",
    "\n",
    "geojson = {\n",
    "    'body': {\n",
    "        \"type\": \"FeatureCollection\",\n",
    "        \"name\": \"test-boundary\",\n",
    "        \"crs\": {\n",
    "            \"type\": \"name\",\n",
    "            \"properties\": {\n",
    "                \"name\": \"urn:ogc:def:crs:OGC:1.3:CRS84\" \n",
    "            }\n",
    "        },\n",
    "        \"features\": [\n",
    "            {\n",
    "                \"type\": \"Feature\",\n",
    "                \"properties\": {\n",
    "                    \"fid\": 1\n",
    "                },\n",
    "                \"geometry\": {\n",
    "                    \"type\": \"Polygon\",\n",
    "                    \"coordinates\": [\n",
    "                        [\n",
    "                            [116.26012130269045, -29.225295369642396],\n",
    "                            [116.261724812149055, -29.241374854584375],\n",
    "                            [116.283751968396274, -29.256813692452539],\n",
    "                            [116.284342735038919, -29.268250184258388],\n",
    "                            [116.292247755352392, -29.265992437426529],\n",
    "                            [116.292360282331941, -29.293057573630019],\n",
    "                            [116.314865678242256, -29.293523728033122],\n",
    "                            [116.326259034921833, -29.293033039128805],\n",
    "                            [116.326315298411629, -29.305397680579894],\n",
    "                            [116.355065941687045, -29.307016748931797],\n",
    "                            [116.355065941687045, -29.306575187382712],\n",
    "                            [116.383366477044206, -29.307384715430175],\n",
    "                            [116.384322956370426, -29.290407813444993],\n",
    "                            [116.387586238777402, -29.282629879611861],\n",
    "                            [116.386517232471661, -29.259807919053017],\n",
    "                            [116.359201308185533, -29.259488866292969],\n",
    "                            [116.359229439930417, -29.259243440415627],\n",
    "                            [116.35242155766754, -29.259292525638209],\n",
    "                            [116.352140240218716, -29.220237788279107],\n",
    "                            [116.302234524787593, -29.223503148505326],\n",
    "                            [116.281388901825679, -29.2239696200396],\n",
    "                            [116.26012130269045, -29.225295369642396]\n",
    "                        ]\n",
    "                    ]\n",
    "                }\n",
    "            }\n",
    "        ]\n",
    "    }\n",
    "}\n",
    "propertyName = \"test\"\n",
    "slga_layer = \"Depth_of_Regolith\"\n",
    "slga_layer_depth = \"0-5cm\""
   ]
  },
  {
   "cell_type": "code",
   "execution_count": null,
   "metadata": {},
   "outputs": [],
   "source": [
    "output_tiff_directory = \"/workspace/notebooks/sandbox/data/slga_testing\"\n",
    "\n",
    "\n",
    "os.makedirs(output_tiff_directory, exist_ok=True)"
   ]
  },
  {
   "cell_type": "code",
   "execution_count": null,
   "metadata": {},
   "outputs": [],
   "source": [
    "req = geojson\n",
    "geojson_data = req['body']  # Directly accessing the 'body' since it's already a dictionary in this mock setup\n",
    "\n",
    "# Convert the GeoJSON string to a GeoDataFrame\n",
    "gdf = gpd.read_file(StringIO(json.dumps(geojson_data)))"
   ]
  },
  {
   "cell_type": "code",
   "execution_count": null,
   "metadata": {},
   "outputs": [
    {
     "name": "stderr",
     "output_type": "stream",
     "text": [
      "/tmp/ipykernel_841/494461584.py:8: UserWarning: Geometry is in a geographic CRS. Results from 'centroid' are likely incorrect. Use 'GeoSeries.to_crs()' to re-project geometries to a projected CRS before this operation.\n",
      "\n",
      "  gdf_lon = gdf.centroid.x[0] #approximate centre latitude based on the input geojson - point roughly in the middle\n",
      "/tmp/ipykernel_841/494461584.py:9: UserWarning: Geometry is in a geographic CRS. Results from 'centroid' are likely incorrect. Use 'GeoSeries.to_crs()' to re-project geometries to a projected CRS before this operation.\n",
      "\n",
      "  gdf_lat = gdf.centroid.y[0]\n"
     ]
    }
   ],
   "source": [
    "geom = gdf.geometry #for data-harvester clip function\n",
    "\n",
    "# Get bounding box from GeoJSON\n",
    "bbox = get_bbox_from_geodf(geojson_data)\n",
    "\n",
    "gdf_lon = gdf.centroid.x[0] #approximate centre latitude based on the input geojson - point roughly in the middle\n",
    "gdf_lat = gdf.centroid.y[0]"
   ]
  },
  {
   "cell_type": "code",
   "execution_count": null,
   "metadata": {},
   "outputs": [],
   "source": [
    "data_mask=True\n",
    "add_buffer = False\n",
    "resample=False\n",
    "\n",
    "# Resolution of data download in arcseconds (1 arcsec ~ 30m)\n",
    "target_res = 1\n",
    "target_proj = \"EPSG:3857\" #find way to set this once at top of notebook and  have it feed through to everything else\n",
    "\n",
    "date_start = \"2022-10-01\" #these aren't needed for SLGA but are expected in the package and throw error if excluded - need to fix\n",
    "date_end = \"2022-11-30\"\n",
    "time_intervals = 0 #same issue as above, need to fix in geodata package to be optional.\n",
    "\n",
    "# layer depth should be in list format to avoid errors and allow for multiple depths later on.\n",
    "target_sources = {\n",
    "    \"SLGA\": {\n",
    "        slga_layer: [slga_layer_depth]\n",
    "    }\n",
    "}\n",
    "\n",
    "json_data = {\n",
    "    \"property_name\":propertyName,\n",
    "    \"outpath\": output_tiff_directory,\n",
    "    \"data_mask\": data_mask,\n",
    "    \"target_res\": str(target_res),\n",
    "    \"target_crs\": target_proj,\n",
    "    \"date_start\": date_start if date_start is not None else \"2022-10-01\", #a date of some kind must be provided or the harvester complains\n",
    "    \"date_end\": date_end if date_end is not None else \"2022-11-30\",\n",
    "    \"target_centroid_lat\": gdf_lat,\n",
    "    \"target_centroid_lng\": gdf_lon,\n",
    "    \"time_intervals\": time_intervals,\n",
    "    \"target_sources\": target_sources,\n",
    "    \"target_bbox\": bbox,\n",
    "    \"add_buffer\": add_buffer,\n",
    "    \"resample\": resample\n",
    "}\n",
    "\n",
    "# Converting dictionary to JSON formatted string\n",
    "data = json.dumps(json_data)\n",
    "\n",
    "# Create a file-like object from JSON string\n",
    "json_file_like = StringIO(data)"
   ]
  },
  {
   "cell_type": "code",
   "execution_count": null,
   "metadata": {},
   "outputs": [
    {
     "name": "stdout",
     "output_type": "stream",
     "text": [
      "{\"property_name\": \"test\", \"outpath\": \"/workspace/notebooks/sandbox/data/slga_testing\", \"data_mask\": true, \"target_res\": \"1\", \"target_crs\": \"EPSG:3857\", \"date_start\": \"2022-10-01\", \"date_end\": \"2022-11-30\", \"target_centroid_lat\": -29.263026061552612, \"target_centroid_lng\": 116.32813629361138, \"time_intervals\": 0, \"target_sources\": {\"SLGA\": {\"Depth_of_Regolith\": [\"0-5cm\"]}}, \"target_bbox\": [116.26012130269045, -29.307384715430175, 116.3875862387774, -29.220237788279107], \"add_buffer\": false, \"resample\": false}\n"
     ]
    }
   ],
   "source": [
    "print(data)"
   ]
  },
  {
   "cell_type": "code",
   "execution_count": null,
   "metadata": {},
   "outputs": [
    {
     "name": "stdout",
     "output_type": "stream",
     "text": [
      "processing SLGA:\n",
      "WCS data downloaded and saved as SLGA_Depth_of_Regolith_0-5cm_test.tiff\n",
      "Masking data in /workspace/notebooks/sandbox/data/slga_testing\n"
     ]
    }
   ],
   "source": [
    "harvester = DataHarvester(json_file_like, geom)\n",
    "harvester.run()"
   ]
  },
  {
   "cell_type": "code",
   "execution_count": null,
   "metadata": {},
   "outputs": [
    {
     "name": "stdout",
     "output_type": "stream",
     "text": [
      "GeoTIFF data saved to /workspace/notebooks/sandbox/data/slga_testing/geotiff_data.json\n"
     ]
    }
   ],
   "source": [
    "\n",
    "geotiffs = [file for file in os.listdir(output_tiff_directory) if file.endswith('.tiff')]\n",
    "\n",
    "# Dictionary to store data\n",
    "# Dictionaries to store data, subdivided into 'masked' and 'other'\n",
    "geotiff_data = {'downloaded': {}, 'masked': {}}\n",
    "\n",
    "for filename in geotiffs:\n",
    "    file_path = os.path.join(output_tiff_directory, filename)\n",
    "    with rasterio.open(file_path) as src:\n",
    "        # Get the CRS, NoData value, and data type\n",
    "        crs = src.crs\n",
    "        nodata_value = src.nodata\n",
    "        resolution = src.res\n",
    "        num_bands = src.count\n",
    "        data_types = src.dtypes[0]\n",
    "        \n",
    "        # Initialize variables to find min and max values\n",
    "        min_value, max_value = float('inf'), float('-inf')\n",
    "        \n",
    "        # Check all bands for data ranges and missing data\n",
    "        for i in range(1, src.count + 1):\n",
    "            band = src.read(i, masked=True)  # Read with mask applied\n",
    "            min_band_value = np.min(band).item()  # Convert to native Python float\n",
    "            max_band_value = np.max(band).item()  # Convert to native Python float\n",
    "            \n",
    "            # Update the min and max values found\n",
    "            if min_band_value is not None:\n",
    "                min_value = min(min_value, min_band_value)\n",
    "            if max_band_value is not None:\n",
    "                max_value = max(max_value, max_band_value)\n",
    "        \n",
    "        # Determine the group based on filename suffix\n",
    "        group = 'masked' if filename.endswith('_masked.tiff') else 'downloaded'\n",
    "\n",
    "        # Store results in the appropriate sub-dictionary\n",
    "        geotiff_data[group][filename] = {\n",
    "            'CRS': str(crs),\n",
    "            'Number of Bands': num_bands,\n",
    "            'Data Type': data_types,\n",
    "            'NoData Value': nodata_value,\n",
    "            'Resolution': resolution,\n",
    "            'Min Data Value': min_value if min_value != float('inf') else None,\n",
    "            'Max Data Value': max_value if max_value != float('-inf') else None\n",
    "        }\n",
    "\n",
    "# Save results to a JSON file\n",
    "json_path = os.path.join(output_tiff_directory, 'geotiff_data.json')\n",
    "with open(json_path, 'w') as json_file:\n",
    "    json.dump(geotiff_data, json_file, indent=4)\n",
    "\n",
    "print(f\"GeoTIFF data saved to {json_path}\")"
   ]
  },
  {
   "cell_type": "code",
   "execution_count": null,
   "metadata": {},
   "outputs": [
    {
     "data": {
      "application/vnd.jupyter.widget-view+json": {
       "model_id": "250d6be5a723444c87d246ca70ac7241",
       "version_major": 2,
       "version_minor": 0
      },
      "text/plain": [
       "interactive(children=(Dropdown(description='filename', options=('SLGA_Depth_of_Regolith_0-5cm_test.tiff', 'SLG…"
      ]
     },
     "metadata": {},
     "output_type": "display_data"
    }
   ],
   "source": [
    "def plot_geotiff(filename):\n",
    "    file_path = os.path.join(output_tiff_directory, filename)\n",
    "    with rasterio.open(file_path) as src:\n",
    "        fig, ax = plt.subplots(figsize=(10, 10))\n",
    "        show(src, ax=ax, title=filename)\n",
    "        plt.show()\n",
    "\n",
    "if map_results:\n",
    "    # Create a dropdown to select a GeoTIFF file\n",
    "    dropdown = Dropdown(options=geotiffs)\n",
    "\n",
    "    # Use interact to create a UI element for file selection\n",
    "    interact(plot_geotiff, filename=dropdown)"
   ]
  },
  {
   "cell_type": "code",
   "execution_count": null,
   "metadata": {},
   "outputs": [],
   "source": []
  }
 ],
 "metadata": {
  "kernelspec": {
   "display_name": "Python 3 (ipykernel)",
   "language": "python",
   "name": "python3"
  },
  "language_info": {
   "codemirror_mode": {
    "name": "ipython",
    "version": 3
   },
   "file_extension": ".py",
   "mimetype": "text/x-python",
   "name": "python",
   "nbconvert_exporter": "python",
   "pygments_lexer": "ipython3",
   "version": "3.12.3"
  }
 },
 "nbformat": 4,
 "nbformat_minor": 2
}
